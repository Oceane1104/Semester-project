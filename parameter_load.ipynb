{
 "cells": [
  {
   "cell_type": "code",
   "execution_count": 4,
   "metadata": {},
   "outputs": [],
   "source": [
    "import os\n",
    "import pandas as pd\n",
    "import matplotlib.pyplot as plt\n",
    "import re\n",
    "import numpy as np\n",
    "from scipy.signal import find_peaks"
   ]
  },
  {
   "cell_type": "code",
   "execution_count": 5,
   "metadata": {},
   "outputs": [],
   "source": [
    "# Function: load_data\n",
    "#\n",
    "# Can load files with the following filename structures:\n",
    "#   - size + section/position + other -> e.g. 100_s4_b2_graphtype\n",
    "#   - placement + size + section/position + other -> e.g. tr_100_s4_b2_graphtype\n",
    "# Inputs: \n",
    "# - data_folder: folder where files can be found\n",
    "# - chip_name, size, graph_type to load\n",
    "# Output:\n",
    "# - data_list, capa_list: data and name of the capacitors that were loaded -> all measured capacitors of a specific size on one chip\n",
    "\n",
    "\n",
    "\n",
    "# Function to load data: returns a list of all measurements of a specific mmnt type, for a specific chip and capa size\n",
    "def load_data(data_folder, chip_name, size, graph_type):\n",
    "    # Liste des dossiers dans le dossier data_folder\n",
    "    date_folders = os.listdir(data_folder)\n",
    "    \n",
    "    data_list = []\n",
    "    capa_list = []\n",
    "\n",
    "    # Parcours des dossiers de date\n",
    "    for date_folder in date_folders:\n",
    "        # Chemin complet du dossier de date\n",
    "        date_folder_path = os.path.join(data_folder, date_folder)\n",
    "        \n",
    "        # Liste des dossiers de chips dans le dossier de date\n",
    "        chip_folders = [folder for folder in os.listdir(date_folder_path) if os.path.isdir(os.path.join(date_folder_path, folder))]\n",
    "        \n",
    "        # Parcours des dossiers de chips\n",
    "        for chip_folder in chip_folders:\n",
    "            # Vérification si le nom de la chip correspond\n",
    "            if chip_name in chip_folder:\n",
    "                # Chemin complet du dossier de la chip\n",
    "                chip_folder_path = os.path.join(date_folder_path, chip_folder)\n",
    "                \n",
    "                # Liste des fichiers xls dans le dossier de la chip\n",
    "                xls_files = [file for file in os.listdir(chip_folder_path) if file.endswith('.xls')]\n",
    "                \n",
    "                # Parcours des fichiers xls\n",
    "                for xls_file in xls_files:\n",
    "                    # Séparation du nom du fichier\n",
    "                    file_parts = xls_file.split('_')\n",
    "                    \n",
    "                    # if the file name starts with the capa size (eg. 500_s4_4d)\n",
    "                    if file_parts[0] == size: \n",
    "                        file_placement, file_size, file_section, file_pos  = None, file_parts[0], file_parts[1], file_parts[2]\n",
    "                        capa = '_'.join(map(str,[file_size,file_section,file_pos]))\n",
    "                    # if the file name starts with the capa placement (e.g. tr_500_s4_4d)\n",
    "                    elif file_parts[1] == size: \n",
    "                        file_placement, file_size, file_section, file_pos = file_parts[0], file_parts[1], file_parts[2], file_parts[3]\n",
    "                        capa = '_'.join(map(str,[file_placement,file_size,file_section,file_pos]))\n",
    "                    # unkown file name structure\n",
    "                    else:\n",
    "                        capa = None\n",
    "\n",
    "                 \n",
    "                    file_graph_type = extract_pattern_in_filename(xls_file, graph_type)\n",
    "                    if file_graph_type == graph_type and capa is not None:\n",
    "                        # Chargement des données xls dans une DataFrame\n",
    "                        xls_path = os.path.join(chip_folder_path, xls_file)\n",
    "                        data = pd.read_excel(xls_path)\n",
    "                        \n",
    "                        capa_list.append(capa)\n",
    "                        data_list.append(data)\n",
    "                    \n",
    "                    file_size = None   \n",
    "                        \n",
    "    return data_list, capa_list\n",
    "\n",
    "\n",
    "# Fonction pour extraire le nom de l'expérience à partir du nom de fichier\n",
    "def extract_pattern_in_filename(file_name, pattern):\n",
    "    # Expression régulière pour rechercher le motif \"P-V 1V_1#1\" dans le nom de fichier\n",
    "    match = re.search(pattern, file_name)\n",
    "    if match:\n",
    "        return match.group()\n",
    "    else:\n",
    "        return None"
   ]
  },
  {
   "cell_type": "code",
   "execution_count": 6,
   "metadata": {},
   "outputs": [],
   "source": [
    "## Variables\n",
    "output_folder = 'C:\\\\Users\\\\natha\\\\Downloads\\\\Semester_project\\\\Plots'\n",
    "data_folder = 'C:\\\\Users\\\\natha\\\\Downloads\\\\Semester_project\\\\Data'\n",
    "code_folder = 'C:\\\\Users\\\\natha\\\\Downloads\\\\Semester_project\\\\Code'\n",
    "parameter_path = 'C:\\\\Users\\\\natha\\\\Downloads\\\\Semester_project\\\\Code\\\\Parameter.xlsx'\n",
    "\n",
    "list_exp_1 = [\"P-V 1V_1#1\", \"P-V 1V_2#1\", \"P-V 2V_1#1\", \"P-V 2V_2#1\", \"P-V 3V_1#1\", \"P-V 3V_2#1\", \n",
    "                            \"P-V 4V_1#1\", \"P-V 4V_2#1\", \"P-V 3V neg_1#1\", \"P-V 3V neg_1#1\", \"PUND 5V_1#1\", \"PUND 5V neg_1#1\",\n",
    "                            \"CV 3V_1#1\"]\n",
    "size_list = [\"50\", \"100\", \"150\", \"200\", \"500\"]"
   ]
  },
  {
   "cell_type": "code",
   "execution_count": 7,
   "metadata": {},
   "outputs": [
    {
     "name": "stdout",
     "output_type": "stream",
     "text": [
      "          Sputtering method  Annealing temperature  Annealing time\n",
      "sample ID                                                         \n",
      "3dec01                   DP                    600              20\n",
      "3dec13                   DP                    600             120\n",
      "3dec05                   DP                    600             240\n",
      "3dec17                   DP                    500              20\n",
      "3dec11                   DP                    500             120\n",
      "3dec03                   DP                    500             240\n",
      "3dec15                   DP                    450              20\n",
      "3dec09                   DP                    450             120\n",
      "3dec07                   DP                    450             240\n",
      "3dec18                   SP                    600              20\n",
      "3dec12                   SP                    600             120\n",
      "3dec04                   SP                    600             240\n",
      "3dec16                   SP                    500              20\n",
      "3dec08                   SP                    500             120\n",
      "3dec10                   SP                    500             120\n",
      "3dec02                   SP                    500             240\n",
      "3dec14                   SP                    450              20\n",
      "3dec06                   SP                    450             240\n",
      "\n",
      "Number of parameters: 3\n",
      "Parameter names: Sputtering method, Annealing temperature, Annealing time\n"
     ]
    }
   ],
   "source": [
    "## PARAMETER FILE : FIRST COL: SAMPLE ID, THEN VARIABLES, THEN SPACE, THEN SIZES\n",
    "\n",
    "# Load parameter\n",
    "parameter = pd.read_excel(parameter_path)\n",
    "sample_IDs = parameter['sample ID'].to_list()\n",
    "parameter.set_index('sample ID', inplace=True) # Set the first column (sample ID) as the index\n",
    "print(parameter)\n",
    "\n",
    "# Get the column names\n",
    "parameter_names = parameter.columns\n",
    "print('\\nNumber of parameters:', len(parameter_names))\n",
    "print('Parameter names:', ', '.join(map(str,parameter_names)))"
   ]
  },
  {
   "cell_type": "code",
   "execution_count": 8,
   "metadata": {},
   "outputs": [],
   "source": [
    "def get_chips_from_experience(experience_string, param_df):\n",
    "    experience_parts = experience_string.split('_')\n",
    "    \n",
    "    # Get the number of parameter\n",
    "    nb_params = len(param_df.columns)\n",
    "    nb_exp_parts = len(experience_parts)\n",
    "\n",
    "    # Initialisation\n",
    "    chip_list = []  \n",
    "\n",
    "    # check that nb params = nb experience parts\n",
    "    if nb_params == nb_exp_parts:\n",
    "        df_temp = param_df\n",
    "        for i in range(nb_params):\n",
    "            chip_list = []\n",
    "            param_col = df_temp.iloc[:,i]\n",
    "            for j in range(len(param_col)):\n",
    "                if (str(param_col.iloc[j]) == experience_parts[i]):\n",
    "                    chip_list.append(param_col.index[j])\n",
    "            #print(chip_list)\n",
    "            df_temp = df_temp.loc[chip_list] # continue only with rows which have the correct parameter\n",
    "\n",
    "\n",
    "    else:\n",
    "        print('Error: Number of parameters are not equal')\n",
    "\n",
    "    if chip_list is None:\n",
    "        print('No chips for the experience', experience_string, 'found')\n",
    "\n",
    "    return chip_list\n",
    "\n",
    "def get_experience_from_chip(chip_name, param_df):\n",
    "    experience_list = param_df.loc[chip_name].to_list()\n",
    "    experience_string = '_'.join(map(str,experience_list))\n",
    "    return experience_string"
   ]
  },
  {
   "cell_type": "code",
   "execution_count": 9,
   "metadata": {},
   "outputs": [
    {
     "name": "stdout",
     "output_type": "stream",
     "text": [
      "Experience dataframe:\n",
      " ------------------\n",
      "Sputtering method         DP\n",
      "Annealing temperature    600\n",
      "Annealing time           120\n",
      "Name: 3dec13, dtype: object\n",
      "\n",
      "\n",
      "Experience String:\n",
      " ------------------\n",
      " DP_600_120\n",
      "\n",
      "\n",
      "Chips corresponding to experience DP_600_120 :\n",
      " ------------------\n",
      " ['3dec13']\n"
     ]
    }
   ],
   "source": [
    "experience_df = parameter.loc[sample_IDs[1]]\n",
    "print('Experience dataframe:\\n ------------------')\n",
    "print(experience_df)\n",
    "\n",
    "experience = get_experience_from_chip(sample_IDs[1], parameter)\n",
    "print('\\n\\nExperience String:\\n ------------------\\n',experience)\n",
    "\n",
    "chips = get_chips_from_experience(experience, parameter)\n",
    "print('\\n\\nChips corresponding to experience', experience, ':\\n ------------------\\n',chips)"
   ]
  },
  {
   "cell_type": "code",
   "execution_count": 21,
   "metadata": {},
   "outputs": [],
   "source": [
    "def get_list_of_experiences(param_df):\n",
    "    experience_list = []\n",
    "    for i in range(len(param_df)):\n",
    "        experience_string = '_'.join(map(str,param_df.iloc[i]))\n",
    "        experience_list.append(experience_string)\n",
    "\n",
    "    return experience_list"
   ]
  },
  {
   "cell_type": "code",
   "execution_count": 25,
   "metadata": {},
   "outputs": [
    {
     "name": "stdout",
     "output_type": "stream",
     "text": [
      "Number of experiences loaded: 18\n",
      "------------------------------------\n",
      "Full list:\n",
      " ['DP_600_20', 'DP_600_120', 'DP_600_240', 'DP_500_20', 'DP_500_120', 'DP_500_240', 'DP_450_20', 'DP_450_120', 'DP_450_240', 'SP_600_20', 'SP_600_120', 'SP_600_240', 'SP_500_20', 'SP_500_120', 'SP_500_120', 'SP_500_240', 'SP_450_20', 'SP_450_240']\n"
     ]
    }
   ],
   "source": [
    "experience_list = get_list_of_experiences(parameter)\n",
    "print('Number of experiences loaded:', len(experience_list))\n",
    "print('------------------------------------')\n",
    "print('Full list:\\n', experience_list)"
   ]
  },
  {
   "cell_type": "code",
   "execution_count": null,
   "metadata": {},
   "outputs": [],
   "source": []
  },
  {
   "cell_type": "code",
   "execution_count": null,
   "metadata": {},
   "outputs": [],
   "source": []
  }
 ],
 "metadata": {
  "kernelspec": {
   "display_name": "Python 3",
   "language": "python",
   "name": "python3"
  },
  "language_info": {
   "codemirror_mode": {
    "name": "ipython",
    "version": 3
   },
   "file_extension": ".py",
   "mimetype": "text/x-python",
   "name": "python",
   "nbconvert_exporter": "python",
   "pygments_lexer": "ipython3",
   "version": "3.11.5"
  }
 },
 "nbformat": 4,
 "nbformat_minor": 2
}
