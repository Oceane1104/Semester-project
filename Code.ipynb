{
 "cells": [
  {
   "cell_type": "code",
   "execution_count": null,
   "metadata": {},
   "outputs": [],
   "source": []
  },
  {
   "cell_type": "markdown",
   "metadata": {},
   "source": [
    "import pandas as pd\n",
    "\n",
    "from pydrive.auth import GoogleAuth\n",
    "from pydrive.drive import GoogleDrive"
   ]
  },
  {
   "cell_type": "code",
   "execution_count": null,
   "metadata": {},
   "outputs": [],
   "source": [
    "url = \"https://docs.google.com/spreadsheets/d/16pNcfR5_Rw4r4JDUJ-Vr5JXtDCX747Yd/edit?usp=drive_link&ouid=113537870160569752188&rtpof=true&sd=true\"\n",
    "url_for_pandas = url.replace(\"/edit?usp=share_link\", \"/export?format=xlsx\")\n",
    "df = pd.read_excel(url_for_pandas)"
   ]
  },
  {
   "cell_type": "code",
   "execution_count": null,
   "metadata": {},
   "outputs": [],
   "source": [
    "url = \"https://docs.google.com/spreadsheets/d/16pNcfR5_Rw4r4JDUJ-Vr5JXtDCX747Yd/edit?usp=drive_link&ouid=113537870160569752188&rtpof=true&sd=true\"\n",
    "url_for_pandas = url.replace(\"/edit?usp=share_link\", \"/export?format=xlsx\")\n",
    "df = pd.read_excel(url_for_pandas)"
   ]
  }
 ],
 "metadata": {
  "kernelspec": {
   "display_name": "Mask",
   "language": "python",
   "name": "python3"
  },
  "language_info": {
   "codemirror_mode": {
    "name": "ipython",
    "version": 3
   },
   "file_extension": ".py",
   "mimetype": "text/x-python",
   "name": "python",
   "nbconvert_exporter": "python",
   "pygments_lexer": "ipython3",
   "version": "3.8.0"
  }
 },
 "nbformat": 4,
 "nbformat_minor": 2
}
